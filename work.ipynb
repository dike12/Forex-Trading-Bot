{
 "cells": [
  {
   "cell_type": "code",
   "execution_count": 1,
   "metadata": {},
   "outputs": [
    {
     "name": "stdout",
     "output_type": "stream",
     "text": [
      "[*********************100%%**********************]  1 of 1 completed\n"
     ]
    },
    {
     "data": {
      "text/plain": [
       "<pandas.core.indexing._iLocIndexer at 0x22746d9abc0>"
      ]
     },
     "execution_count": 1,
     "metadata": {},
     "output_type": "execute_result"
    }
   ],
   "source": [
    "import yfinance as yf\n",
    "import pandas as pd\n",
    "\n",
    "dataF = yf.download(\"EURUSD=X\", start=\"2023-11-25\", end=\"2023-12-24\", interval=\"15m\")\n",
    "dataF.iloc[-1:, :]\n",
    "dataF.Open.iloc"
   ]
  },
  {
   "cell_type": "code",
   "execution_count": 2,
   "metadata": {},
   "outputs": [],
   "source": [
    "def signal_generator(df):\n",
    "    if len(df) != 2:\n",
    "        return 0\n",
    "\n",
    "    open = df.Open.iloc[1]\n",
    "    close = df.Close.iloc[1]\n",
    "    previous_open = df.Open.iloc[0]\n",
    "    previous_close = df.Close.iloc[0]\n",
    "\n",
    "    #bearish pattern \n",
    "    if(open > close and previous_open < previous_close and close < previous_open and open >= previous_close):\n",
    "        return 1\n",
    "    \n",
    "    #bullish pattern\n",
    "    elif(open < close and previous_open > previous_close and close > previous_open and open <= previous_close):\n",
    "        return 2\n",
    "    \n",
    "    #No clear pattern\n",
    "    else:\n",
    "        return 0"
   ]
  },
  {
   "cell_type": "code",
   "execution_count": 3,
   "metadata": {},
   "outputs": [],
   "source": [
    "signal = []\n",
    "signal.append(0)\n",
    "for i in range(1, len(dataF)):\n",
    "    df = dataF[i-1: i+1]\n",
    "    signal.append(signal_generator(df))\n",
    "\n",
    "if len(signal) < len(dataF):\n",
    "    signal.append(0) \n",
    "\n",
    "#signal generator(data)\n",
    "dataF[\"signal\"] = signal"
   ]
  },
  {
   "cell_type": "code",
   "execution_count": 4,
   "metadata": {},
   "outputs": [
    {
     "data": {
      "text/plain": [
       "signal\n",
       "0    1731\n",
       "2      89\n",
       "1      75\n",
       "Name: count, dtype: int64"
      ]
     },
     "execution_count": 4,
     "metadata": {},
     "output_type": "execute_result"
    }
   ],
   "source": [
    "#dataF.iloc[:, :]\n",
    "dataF.signal.value_counts()"
   ]
  },
  {
   "cell_type": "code",
   "execution_count": 5,
   "metadata": {},
   "outputs": [],
   "source": [
    "from apscheduler.schedulers.blocking import BlockingScheduler\n",
    "from oandapyV20 import API\n",
    "import oandapyV20.endpoints.orders as orders\n",
    "from oandapyV20.contrib.requests import MarketOrderRequest\n",
    "from oanda_candles import Pair, Gran, CandleClient\n",
    "from oandapyV20.contrib.requests import TakeProfitDetails, StopLossDetails\n",
    "from API_key import key, id"
   ]
  },
  {
   "cell_type": "code",
   "execution_count": 6,
   "metadata": {},
   "outputs": [],
   "source": [
    "def get_candles(n):\n",
    "    access_token = key\n",
    "    client = CandleClient(access_token, real=False)\n",
    "    collector = client.get_collector(Pair.EUR_USD, Gran.M15)\n",
    "    candles = collector.grab(n)\n",
    "    return candles\n",
    "\n",
    "candles = get_candles(3)"
   ]
  },
  {
   "cell_type": "code",
   "execution_count": 7,
   "metadata": {},
   "outputs": [
    {
     "name": "stdout",
     "output_type": "stream",
     "text": [
      "True\n",
      "True\n",
      "True\n"
     ]
    }
   ],
   "source": [
    "for candle in candles:\n",
    "    print(float(str(candle.bid.o)) > 1)"
   ]
  },
  {
   "cell_type": "code",
   "execution_count": 8,
   "metadata": {},
   "outputs": [],
   "source": [
    "def trading_job():\n",
    "    candles = get_candles(3)\n",
    "    dfstream = pd.DataFrame(columns=[\"Open\", \"Close\", \"High\", \"Low\"])\n",
    "\n",
    "    i = 0\n",
    "    for candle in candles:\n",
    "        dfstream.loc[i, [\"Open\"]] = float(str(candle.bid.o))\n",
    "        dfstream.loc[i, [\"Close\"]] = float(str(candle.bid.o))\n",
    "        dfstream.loc[i, [\"High\"]] = float(str(candle.bid.h))\n",
    "        dfstream.loc[i, [\"Low\"]] = float(str(candle.bid.l))\n",
    "        i = i+1\n",
    "\n",
    "    dfstream[\"Open\"]  = dfstream[\"Open\"].astype(float)\n",
    "    dfstream[\"Close\"]  = dfstream[\"Close\"].astype(float)\n",
    "    dfstream[\"High\"]  = dfstream[\"High\"].astype(float)\n",
    "    dfstream[\"Low\"]  = dfstream[\"Low\"].astype(float)\n",
    "\n",
    "    signal = signal_generator(dfstream.iloc[:-1, :])\n",
    "\n",
    "    #Executing Orders\n",
    "    accountID = id\n",
    "    client = API(key)\n",
    "\n",
    "    SLTPRatio = 2\n",
    "    previous_candleR = abs(dfstream[\"Open\"].iloc[-2] - dfstream[\"Close\"].iloc[-2])\n",
    "\n",
    "    SLBuy = float(str(candle.bid.o)) - previous_candleR\n",
    "    SLSell = float(str(candle.bid.o)) + previous_candleR\n",
    "\n",
    "    TPBuy = float(str(candle.bid.o)) + previous_candleR * SLTPRatio\n",
    "    TPSell = float(str(candle.bid.o)) - previous_candleR * SLTPRatio\n",
    "\n",
    "    print(dfstream.iloc[:-1, :])\n",
    "    print(TPBuy, \" \", SLBuy, \" \", TPSell, \" \", SLBuy)\n",
    "\n",
    "    #sell\n",
    "    if signal == 1: \n",
    "        mo = MarketOrderRequest(instrument=\"EUR_USD\", units=-1000, takeProfitOnFill=TakeProfitDetails(price=TPSell).data, stopLossOnFill=StopLossDetails(price=SLSell).data)\n",
    "        r = orders.OrderCreate(accountID, data=mo.data)\n",
    "        rv = client.request(r)\n",
    "        print(rv)\n",
    "\n",
    "    #Buy\n",
    "    elif signal == 2:\n",
    "        mo = MarketOrderRequest(instrument=\"EUR_USD\", units=1000, takeProfitOnFill=TakeProfitDetails(price=TPBuy).data, stopLossOnFill=StopLossDetails(price=SLBuy).data)\n",
    "        r = orders.OrderCreate(accountID, data=mo.data)\n",
    "        rv = client.request(r)\n",
    "        print(rv)"
   ]
  },
  {
   "cell_type": "code",
   "execution_count": null,
   "metadata": {},
   "outputs": [],
   "source": [
    "trading_job()\n",
    "\n",
    "scheduler = BlockingScheduler()\n",
    "scheduler.add_job(trading_job, \"cron\", day_of_week=\"mon-fri\", hour=\"00-23\", minute=\"1,16,31,46\", start_date=\"2023-12-27 12:00:00\", timezone=\"Eastern standard time\")\n",
    "scheduler.start()"
   ]
  }
 ],
 "metadata": {
  "kernelspec": {
   "display_name": "Python 3",
   "language": "python",
   "name": "python3"
  },
  "language_info": {
   "codemirror_mode": {
    "name": "ipython",
    "version": 3
   },
   "file_extension": ".py",
   "mimetype": "text/x-python",
   "name": "python",
   "nbconvert_exporter": "python",
   "pygments_lexer": "ipython3",
   "version": "3.11.5"
  }
 },
 "nbformat": 4,
 "nbformat_minor": 2
}
